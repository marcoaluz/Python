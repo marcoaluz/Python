{
 "cells": [
  {
   "cell_type": "code",
   "execution_count": 1,
   "metadata": {},
   "outputs": [],
   "source": [
    "#Objetivo geral, entender conjuntos criando sets um set é uma coleção qu não possui objetos repetidos,\n",
    "#usamos sets para representar conjuntos matematicos ou eliminar itens duplicados de um iteravel"
   ]
  },
  {
   "cell_type": "code",
   "execution_count": 7,
   "metadata": {},
   "outputs": [
    {
     "data": {
      "text/plain": [
       "{'celta', 'gol', 'palio'}"
      ]
     },
     "execution_count": 7,
     "metadata": {},
     "output_type": "execute_result"
    }
   ],
   "source": [
    "set([1,2,3,4]) # {1,2,3,4}\n",
    "set(\"abacaxi\") # {\"b\",\"a\",\"c\",\"x\",\"i\"}\n",
    "set ((\"palio\",\"gol\",\"celta\",\"palio\")) #{\"gol\",\"celta\",\"palio\"}\n"
   ]
  },
  {
   "cell_type": "code",
   "execution_count": 9,
   "metadata": {},
   "outputs": [
    {
     "name": "stdout",
     "output_type": "stream",
     "text": [
      "{'python', 'java'}\n"
     ]
    }
   ],
   "source": [
    "#set é criado tbm com {}\n",
    "linguagens = {\"python\",\"java\",\"python\"}\n",
    "print(linguagens)"
   ]
  },
  {
   "cell_type": "code",
   "execution_count": 16,
   "metadata": {},
   "outputs": [
    {
     "name": "stdout",
     "output_type": "stream",
     "text": [
      "1\n"
     ]
    }
   ],
   "source": [
    "numeros = set([1,2,3,2])\n",
    "\n",
    "numeros = list(numeros)\n",
    "\n",
    "print(numeros[0])\n",
    "\n"
   ]
  },
  {
   "cell_type": "code",
   "execution_count": 19,
   "metadata": {},
   "outputs": [
    {
     "name": "stdout",
     "output_type": "stream",
     "text": [
      "gol\n",
      "celta\n"
     ]
    }
   ],
   "source": [
    "carros = set((\"gol\",\"celta\",\"gol\",))\n",
    "\n",
    "for carro in carros:\n",
    "    print(carro)"
   ]
  },
  {
   "cell_type": "code",
   "execution_count": 32,
   "metadata": {},
   "outputs": [
    {
     "name": "stdout",
     "output_type": "stream",
     "text": [
      "0: gol\n",
      "1: celta\n"
     ]
    }
   ],
   "source": [
    "carros = set((\"gol\",\"celta\",\"gol\",))\n",
    "\n",
    "for indice, carro in enumerate(carros):\n",
    "    print(f\"{indice}: {carro}\")"
   ]
  },
  {
   "cell_type": "code",
   "execution_count": 39,
   "metadata": {},
   "outputs": [
    {
     "data": {
      "text/plain": [
       "{1, 2, 3, 4}"
      ]
     },
     "execution_count": 39,
     "metadata": {},
     "output_type": "execute_result"
    }
   ],
   "source": [
    "# {}.union de conjuntos, são operadores matematicos \n",
    "\n",
    "conjunto_a = {1,2,3}\n",
    "conjunto_b = {2,3,4}\n",
    "\n",
    "conjunto_a.union(conjunto_b)"
   ]
  },
  {
   "cell_type": "code",
   "execution_count": 41,
   "metadata": {},
   "outputs": [
    {
     "data": {
      "text/plain": [
       "{2, 3}"
      ]
     },
     "execution_count": 41,
     "metadata": {},
     "output_type": "execute_result"
    }
   ],
   "source": [
    "#´{}.intersection é interseção\n",
    "\n",
    "conjunto_a = {1,2,3}\n",
    "conjunto_b = {2,3,4}\n",
    "\n",
    "conjunto_a.intersection(conjunto_b)"
   ]
  },
  {
   "cell_type": "code",
   "execution_count": 44,
   "metadata": {},
   "outputs": [
    {
     "data": {
      "text/plain": [
       "{4}"
      ]
     },
     "execution_count": 44,
     "metadata": {},
     "output_type": "execute_result"
    }
   ],
   "source": [
    "#{}.difference\n",
    "\n",
    "conjunto_a = {1,2,3}\n",
    "conjunto_b = {2,3,4}\n",
    "\n",
    "conjunto_a.difference(conjunto_b) #{1}\n",
    "conjunto_b.difference(conjunto_a) #{4}"
   ]
  },
  {
   "cell_type": "code",
   "execution_count": 46,
   "metadata": {},
   "outputs": [
    {
     "data": {
      "text/plain": [
       "{1, 4}"
      ]
     },
     "execution_count": 46,
     "metadata": {},
     "output_type": "execute_result"
    }
   ],
   "source": [
    "#{}.SYMMETRIC_DIFFERENCE quero todos os elementos que não esta na intersection\n",
    "\n",
    "conjunto_a = {1,2,3}\n",
    "conjunto_b = {2,3,4}\n",
    "\n",
    "conjunto_a.symmetric_difference(conjunto_b) #{1,4}"
   ]
  },
  {
   "cell_type": "code",
   "execution_count": 49,
   "metadata": {},
   "outputs": [
    {
     "data": {
      "text/plain": [
       "False"
      ]
     },
     "execution_count": 49,
     "metadata": {},
     "output_type": "execute_result"
    }
   ],
   "source": [
    "#{}.issubset todos os elementos de b estão em a\n",
    "\n",
    "conjunto_a = {1,2,3}\n",
    "conjunto_b = {4,1,2,5,6,3}\n",
    "\n",
    "conjunto_a.issubset(conjunto_b) #true\n",
    "conjunto_b.issubset(conjunto_a) #false\n",
    "\n",
    "\n"
   ]
  },
  {
   "cell_type": "code",
   "execution_count": 51,
   "metadata": {},
   "outputs": [
    {
     "data": {
      "text/plain": [
       "True"
      ]
     },
     "execution_count": 51,
     "metadata": {},
     "output_type": "execute_result"
    }
   ],
   "source": [
    "#{}.issuperset todos os elementos de b estão em a\n",
    "\n",
    "conjunto_a = {1,2,3}\n",
    "conjunto_b = {4,1,2,5,6,3}\n",
    "\n",
    "conjunto_a.issuperset(conjunto_b) #false\n",
    "conjunto_b.issuperset(conjunto_a) #true"
   ]
  },
  {
   "cell_type": "code",
   "execution_count": 53,
   "metadata": {},
   "outputs": [
    {
     "data": {
      "text/plain": [
       "False"
      ]
     },
     "execution_count": 53,
     "metadata": {},
     "output_type": "execute_result"
    }
   ],
   "source": [
    "#{}.isdisjoint quando quero fazer uma operação de indijuntos que os conjuntos não estão um no outro\n",
    "\n",
    "conjunto_a = {1,2,3,4,5}\n",
    "conjunto_b = {6,7,8,9}\n",
    "conjunto_c = {1,0}\n",
    "\n",
    "\n",
    "conjunto_a.isdisjoint(conjunto_b) #true\n",
    "conjunto_a.isdisjoint(conjunto_c) #false\n"
   ]
  },
  {
   "cell_type": "code",
   "execution_count": 55,
   "metadata": {},
   "outputs": [
    {
     "data": {
      "text/plain": [
       "{1, 23, 25, 42}"
      ]
     },
     "execution_count": 55,
     "metadata": {},
     "output_type": "execute_result"
    }
   ],
   "source": [
    "#{}.add serve para adicionar \n",
    "\n",
    "sorteio = {1,23}\n",
    "\n",
    "sorteio.add(25)\n",
    "sorteio.add(42)\n",
    "sorteio.add(25)\n",
    "\n",
    "sorteio"
   ]
  },
  {
   "cell_type": "code",
   "execution_count": 57,
   "metadata": {},
   "outputs": [
    {
     "data": {
      "text/plain": [
       "set()"
      ]
     },
     "execution_count": 57,
     "metadata": {},
     "output_type": "execute_result"
    }
   ],
   "source": [
    "#{}.clear\n",
    "\n",
    "sorteio = {1,23}\n",
    "\n",
    "sorteio\n",
    "\n",
    "sorteio.clear()\n",
    "\n",
    "sorteio"
   ]
  },
  {
   "cell_type": "code",
   "execution_count": 60,
   "metadata": {},
   "outputs": [
    {
     "data": {
      "text/plain": [
       "{1, 23}"
      ]
     },
     "execution_count": 60,
     "metadata": {},
     "output_type": "execute_result"
    }
   ],
   "source": [
    "#{}.copy \n",
    "\n",
    "sorteio = {1,23}\n",
    "\n",
    "sorteio\n",
    "\n",
    "sorteio.copy()\n",
    "\n",
    "sorteio"
   ]
  },
  {
   "cell_type": "code",
   "execution_count": 63,
   "metadata": {},
   "outputs": [
    {
     "data": {
      "text/plain": [
       "{0, 2, 3, 4, 5, 6, 7, 8, 9}"
      ]
     },
     "execution_count": 63,
     "metadata": {},
     "output_type": "execute_result"
    }
   ],
   "source": [
    "#{}.discard remover algum valor do conjunto discartar \n",
    "\n",
    "numeros  = {1,2,3,1,2,4,5,6,7,8,9,0}\n",
    "\n",
    "numeros\n",
    "\n",
    "numeros.discard(1)\n",
    "numeros.discard(45)\n",
    "\n",
    "numeros"
   ]
  }
 ],
 "metadata": {
  "kernelspec": {
   "display_name": "Python 3",
   "language": "python",
   "name": "python3"
  },
  "language_info": {
   "codemirror_mode": {
    "name": "ipython",
    "version": 3
   },
   "file_extension": ".py",
   "mimetype": "text/x-python",
   "name": "python",
   "nbconvert_exporter": "python",
   "pygments_lexer": "ipython3",
   "version": "3.11.2"
  }
 },
 "nbformat": 4,
 "nbformat_minor": 2
}
