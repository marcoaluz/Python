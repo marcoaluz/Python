{
 "cells": [
  {
   "cell_type": "code",
   "execution_count": 1,
   "metadata": {},
   "outputs": [],
   "source": [
    "# Dicionarios um dicionaro é um conjunto não-ordenado de pares chave: valor, onde as chaves são unicas em uma dada instancia do dicionario.\n",
    "# Dicionario são delimitadas por chaves: {}  e contem uma lista de pares chave: valor separada por virgulas."
   ]
  },
  {
   "cell_type": "code",
   "execution_count": 4,
   "metadata": {},
   "outputs": [
    {
     "data": {
      "text/plain": [
       "{'nome': 'Guilherme', 'idade': 28, 'telefone': '3333-1234'}"
      ]
     },
     "execution_count": 4,
     "metadata": {},
     "output_type": "execute_result"
    }
   ],
   "source": [
    "pessoa = {\"nome\": \"Guilherme\", \"idade\":28}\n",
    "\n",
    "pessoa = dict(nome= \"Guilherme\", idade=28)\n",
    "\n",
    "pessoa[\"telefone\"]= \"3333-1234\"\n",
    "\n",
    "pessoa"
   ]
  },
  {
   "cell_type": "code",
   "execution_count": 7,
   "metadata": {},
   "outputs": [
    {
     "data": {
      "text/plain": [
       "{'nome': 'Maria', 'idade': 18, 'telefone': '9999-9999'}"
      ]
     },
     "execution_count": 7,
     "metadata": {},
     "output_type": "execute_result"
    }
   ],
   "source": [
    "dados = {\"nome\": \"Guilherme\", \"idade\":28,\"telefone\": \"3333-1234\"}\n",
    "\n",
    "dados[\"nome\"]\n",
    "dados[\"idade\"]\n",
    "dados[\"telefone\"]\n",
    "\n",
    "dados[\"nome\"] = \"Maria\"\n",
    "dados[\"idade\"] = 18\n",
    "dados[\"telefone\"] = \"9999-9999\"\n",
    "\n",
    "dados"
   ]
  },
  {
   "cell_type": "code",
   "execution_count": 8,
   "metadata": {},
   "outputs": [],
   "source": [
    "#dicionarios aninhadas é uma estruta dentro da outra, dicionario podem armazem qualquer tipo de objeto python\n",
    "# como valor, desde que a chave "
   ]
  },
  {
   "cell_type": "code",
   "execution_count": 14,
   "metadata": {},
   "outputs": [
    {
     "data": {
      "text/plain": [
       "1"
      ]
     },
     "execution_count": 14,
     "metadata": {},
     "output_type": "execute_result"
    }
   ],
   "source": [
    "contatos = {\n",
    "    \"guilherme@gmail.com\":{\"nome\":\"guilherme\",\"telefone\": \"333-3333\"},\n",
    "    \"giovanna@gmail.com\":{\"nome\":\"Giovanna\",\"telefone\": \"334-3333\"},\n",
    "    \"chappie@gmail.com\":{\"nome\":\"happie\",\"telefone\": \"335-3333\"},\n",
    "    \"melaine@gamiel.com\":{\"nome\":\"melaine\",\"telefone\": \"336-3333\",\"extra\":{\"a\":1}},\n",
    "}\n",
    "\n",
    "telefone = contatos[\"giovanna@gmail.com\"][\"telefone\"]\n",
    "telefone\n",
    "\n",
    "extra = contatos[\"melaine@gamiel.com\"][\"extra\"][\"a\"]\n",
    "extra"
   ]
  },
  {
   "cell_type": "code",
   "execution_count": null,
   "metadata": {},
   "outputs": [],
   "source": [
    "#iterar"
   ]
  }
 ],
 "metadata": {
  "kernelspec": {
   "display_name": "Python 3",
   "language": "python",
   "name": "python3"
  },
  "language_info": {
   "codemirror_mode": {
    "name": "ipython",
    "version": 3
   },
   "file_extension": ".py",
   "mimetype": "text/x-python",
   "name": "python",
   "nbconvert_exporter": "python",
   "pygments_lexer": "ipython3",
   "version": "3.11.2"
  }
 },
 "nbformat": 4,
 "nbformat_minor": 2
}
