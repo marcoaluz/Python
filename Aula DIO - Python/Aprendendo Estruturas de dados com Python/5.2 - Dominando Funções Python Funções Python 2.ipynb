{
 "cells": [
  {
   "cell_type": "code",
   "execution_count": 1,
   "metadata": {},
   "outputs": [],
   "source": [
    "#Parâmetros especiais\n",
    "#Por padrão, argumentos podem ser passados para uma função Python tanto por posição quanto explicitamente pelo nome. \n",
    "#Para uma melhor legibilidade e desempenho, faz sentido restringir a maneira pelo qual argumentos possam ser passados, \n",
    "#assim um desenvolvedor precisa apenas olhar para a definição da função para determinar se os itens são passados por posição, \n",
    "#por posição e nome, ou por nome.\n"
   ]
  },
  {
   "cell_type": "code",
   "execution_count": 15,
   "metadata": {},
   "outputs": [
    {
     "name": "stdout",
     "output_type": "stream",
     "text": [
      "Palio 1999 ABC-1234 Fiat 1.0 Gasolina\n"
     ]
    }
   ],
   "source": [
    "#Positional only ate a barra é por posição e apos a barra é por nome nomeado\n",
    "\n",
    "def criar_carro(modelo, ano, placa, /, marca, motor, combustivel):\n",
    "    print(modelo, ano, placa, marca, motor, combustivel)\n",
    "\n",
    "\n",
    "criar_carro(\"Palio\", 1999, \"ABC-1234\", marca=\"Fiat\", motor=\"1.0\", combustivel=\"Gasolina\") #valido\n",
    "#criar_carro(modelo=\"Palio\", ano=1999, placa=\"ABC-1234\", marca=\"Fiat\", motor=\"1.0\", combustivel=\"Gasolina\")  # inválido"
   ]
  },
  {
   "cell_type": "code",
   "execution_count": 8,
   "metadata": {},
   "outputs": [
    {
     "name": "stdout",
     "output_type": "stream",
     "text": [
      "Palio 1999 ABC-1234 Fiat 1.0 Gasolina\n"
     ]
    }
   ],
   "source": [
    "#Keyword only\n",
    "\n",
    "def criar_carro(*,modelo, ano, placa, marca, motor, combustivel):\n",
    "    print(modelo, ano, placa, marca, motor, combustivel)\n",
    "\n",
    "criar_carro(\"Palio\", 1999, \"ABC-1234\", marca=\"Fiat\", motor=\"1.0\", combustivel=\"Gasolina\")# inválido\n",
    "\n",
    "criar_carro(modelo=\"Palio\", ano=1999, placa=\"ABC-1234\", marca=\"Fiat\", motor=\"1.0\", combustivel=\"Gasolina\") #Valido \n"
   ]
  },
  {
   "cell_type": "code",
   "execution_count": 12,
   "metadata": {},
   "outputs": [
    {
     "ename": "TypeError",
     "evalue": "criar_carro() got some positional-only arguments passed as keyword arguments: 'modelo, ano, placa'",
     "output_type": "error",
     "traceback": [
      "\u001b[1;31m---------------------------------------------------------------------------\u001b[0m",
      "\u001b[1;31mTypeError\u001b[0m                                 Traceback (most recent call last)",
      "Cell \u001b[1;32mIn[12], line 7\u001b[0m\n\u001b[0;32m      3\u001b[0m     \u001b[38;5;28mprint\u001b[39m(modelo, ano, placa, marca, motor, combustivel)\n\u001b[0;32m      6\u001b[0m \u001b[38;5;66;03m# criar_carro(\"Palio\", 1999, \"ABC-1234\", marca=\"Fiat\", motor=\"1.0\", combustivel=\"Gasolina\")\u001b[39;00m\n\u001b[1;32m----> 7\u001b[0m \u001b[43mcriar_carro\u001b[49m\u001b[43m(\u001b[49m\u001b[43mmodelo\u001b[49m\u001b[38;5;241;43m=\u001b[39;49m\u001b[38;5;124;43m\"\u001b[39;49m\u001b[38;5;124;43mPalio\u001b[39;49m\u001b[38;5;124;43m\"\u001b[39;49m\u001b[43m,\u001b[49m\u001b[43m \u001b[49m\u001b[43mano\u001b[49m\u001b[38;5;241;43m=\u001b[39;49m\u001b[38;5;241;43m1999\u001b[39;49m\u001b[43m,\u001b[49m\u001b[43m \u001b[49m\u001b[43mplaca\u001b[49m\u001b[38;5;241;43m=\u001b[39;49m\u001b[38;5;124;43m\"\u001b[39;49m\u001b[38;5;124;43mABC-1234\u001b[39;49m\u001b[38;5;124;43m\"\u001b[39;49m\u001b[43m,\u001b[49m\u001b[43m \u001b[49m\u001b[43mmarca\u001b[49m\u001b[38;5;241;43m=\u001b[39;49m\u001b[38;5;124;43m\"\u001b[39;49m\u001b[38;5;124;43mFiat\u001b[39;49m\u001b[38;5;124;43m\"\u001b[39;49m\u001b[43m,\u001b[49m\u001b[43m \u001b[49m\u001b[43mmotor\u001b[49m\u001b[38;5;241;43m=\u001b[39;49m\u001b[38;5;124;43m\"\u001b[39;49m\u001b[38;5;124;43m1.0\u001b[39;49m\u001b[38;5;124;43m\"\u001b[39;49m\u001b[43m,\u001b[49m\u001b[43m \u001b[49m\u001b[43mcombustivel\u001b[49m\u001b[38;5;241;43m=\u001b[39;49m\u001b[38;5;124;43m\"\u001b[39;49m\u001b[38;5;124;43mGasolina\u001b[39;49m\u001b[38;5;124;43m\"\u001b[39;49m\u001b[43m)\u001b[49m  \u001b[38;5;66;03m# inválido\u001b[39;00m\n",
      "\u001b[1;31mTypeError\u001b[0m: criar_carro() got some positional-only arguments passed as keyword arguments: 'modelo, ano, placa'"
     ]
    }
   ],
   "source": [
    "#Keyword and positional only\n",
    "def criar_carro(modelo, ano, placa, /, *, marca, motor, combustivel):\n",
    "    print(modelo, ano, placa, marca, motor, combustivel)\n",
    "\n",
    "\n",
    "# criar_carro(\"Palio\", 1999, \"ABC-1234\", marca=\"Fiat\", motor=\"1.0\", combustivel=\"Gasolina\")\n",
    "criar_carro(modelo=\"Palio\", ano=1999, placa=\"ABC-1234\", marca=\"Fiat\", motor=\"1.0\", combustivel=\"Gasolina\")  # inválido"
   ]
  },
  {
   "cell_type": "code",
   "execution_count": 5,
   "metadata": {},
   "outputs": [],
   "source": [
    "#Objetos de primeira classe\n",
    "#Em Python tudo é objeto, dessa forma funções também são objetos o que as tornam objetos de primeira classe. \n",
    "#Com isso podemos atribuir funções a variáveis, passá-las como parâmetro para funções,\n",
    "#usá-las como valores em estruturas de dados (listas, tuplas, dicionários, etc) e usar como valor de retorno para uma função (closures).\n"
   ]
  },
  {
   "cell_type": "code",
   "execution_count": 13,
   "metadata": {},
   "outputs": [
    {
     "name": "stdout",
     "output_type": "stream",
     "text": [
      "O resultado da operação 10 + 10 = 20\n"
     ]
    }
   ],
   "source": [
    "#Exemplo\n",
    "\n",
    "def somar(a, b):\n",
    "    return a + b\n",
    "\n",
    "\n",
    "def exibir_resultado(a, b, funcao):\n",
    "    resultado = funcao(a, b)\n",
    "    print(f\"O resultado da operação {a} + {b} = {resultado}\")\n",
    "\n",
    "\n",
    "exibir_resultado(10, 10, somar)  # O resultado da operação 10 + 10 = 20\n",
    "\n"
   ]
  },
  {
   "cell_type": "code",
   "execution_count": 14,
   "metadata": {},
   "outputs": [
    {
     "data": {
      "text/plain": [
       "2500"
      ]
     },
     "execution_count": 14,
     "metadata": {},
     "output_type": "execute_result"
    }
   ],
   "source": [
    "#Escopo local e escopo global\n",
    "#Python trabalha com escopo local e global, dentro do bloco da função o escopo é local. \n",
    "#Portanto alterações ali feitas em objetos imutáveis serão perdidas quando o método terminar de ser executado.\n",
    "#Para usar objetos globais utilizamos a palavra-chave global, \n",
    "#que informa ao interpretador que a variável que está sendo manipulada no escopo local é global. Essa NÃO é uma boa prática e deve ser evitada.\n",
    "\n",
    "salario = 2000\n",
    "\n",
    "\n",
    "def salario_bonus(bonus):\n",
    "    global salario\n",
    "    salario += bonus\n",
    "    return salario\n",
    "\n",
    "\n",
    "salario_bonus(500)  # 2500"
   ]
  }
 ],
 "metadata": {
  "kernelspec": {
   "display_name": "Python 3",
   "language": "python",
   "name": "python3"
  },
  "language_info": {
   "codemirror_mode": {
    "name": "ipython",
    "version": 3
   },
   "file_extension": ".py",
   "mimetype": "text/x-python",
   "name": "python",
   "nbconvert_exporter": "python",
   "pygments_lexer": "ipython3",
   "version": "3.11.2"
  }
 },
 "nbformat": 4,
 "nbformat_minor": 2
}
