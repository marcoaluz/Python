{
 "cells": [
  {
   "cell_type": "code",
   "execution_count": 11,
   "metadata": {},
   "outputs": [],
   "source": [
    "# funções Python \n",
    "#funções e um bloco de codigo identificado por um nome e pode receber uma lista de paramentro esse paramento podem ou não ter valores padrão\n",
    "#usar função tona o codigo mais legivel e possibilita o reaproveitamento de codigo.\n",
    "#programar baseado em função é o mesm que "
   ]
  },
  {
   "cell_type": "code",
   "execution_count": 21,
   "metadata": {},
   "outputs": [
    {
     "name": "stdout",
     "output_type": "stream",
     "text": [
      "Olá mundo!\n",
      "Seja vem vindo Marco! \n",
      "Seja bem vindo Anonimo !\n",
      "Seja bem vindo Chappie !\n",
      "ola mundo\n",
      "None\n"
     ]
    }
   ],
   "source": [
    "#def é informar o interpretador exibir uma mensagem\n",
    "def  exibir_mensagem():\n",
    "    print(\"Olá mundo!\")\n",
    "\n",
    "\n",
    "def exibir_mensagem_2(nome):\n",
    "    print(f\"Seja vem vindo {nome}! \")\n",
    "\n",
    "\n",
    "def exibir_mensagem_3(nome = \"Anonimo\"):\n",
    "    print(f\"Seja bem vindo {nome} !\")\n",
    "\n",
    "\n",
    "exibir_mensagem()\n",
    "exibir_mensagem_2(nome = \"Marco\")\n",
    "exibir_mensagem_3()\n",
    "exibir_mensagem_3(nome=\"Chappie\")\n",
    "\n",
    "\n",
    "###\n",
    "\n",
    "\n",
    "def calcular_total(numeros):\n",
    "    return sum(numeros)\n",
    "\n",
    "\n",
    "def retorna_antecessor_e_sucessor(numero):\n",
    "    antecessor = numero - 1\n",
    "    sucessor = numero + 1\n",
    "\n",
    "    return antecessor, sucessor\n",
    "\n",
    "\n",
    "def func_3():\n",
    "    print(\"ola mundo\")\n",
    "   \n",
    "\n",
    "\n",
    "calcular_total([10,20,34])\n",
    "retorna_antecessor_e_sucessor(10)\n",
    "print(func_3())"
   ]
  },
  {
   "cell_type": "code",
   "execution_count": 35,
   "metadata": {},
   "outputs": [
    {
     "name": "stdout",
     "output_type": "stream",
     "text": [
      "Carro inserido com sucesso ! Fiat/Palio/1999/ABC-1234\n",
      "Carro inserido com sucesso ! Fiant/Palio/1999/ABC-1234\n",
      "Carro inserido com sucesso ! Fiat/Palio/1999/ABC-1234\n"
     ]
    }
   ],
   "source": [
    "#argumentos nomeados funções tambem podem ser chamadas usado argumentos nomeados da forma chave=valor.\n",
    "def salvar_carro(marca,modelo,ano,placa):\n",
    "    print(f\"Carro inserido com sucesso ! {marca}/{modelo}/{ano}/{placa}\")\n",
    "\n",
    "\n",
    "salvar_carro(\"Fiat\", \"Palio\", 1999, \"ABC-1234\")  #desvantagem de fazer dessa forma é devido o pode trocar marca pelo modelo\n",
    "salvar_carro(marca=\"Fiant\",modelo=\"Palio\",ano=1999,placa=\"ABC-1234\") # manter os valores correto\n",
    "salvar_carro(**{\"marca\":'Fiat', \"modelo\":\"Palio\",\"ano\":1999,\"placa\":\"ABC-1234\"})# os dois ** esta passando dicionario para função\n",
    "\n"
   ]
  },
  {
   "cell_type": "code",
   "execution_count": 36,
   "metadata": {},
   "outputs": [
    {
     "name": "stdout",
     "output_type": "stream",
     "text": [
      "Zen of Python\n",
      "\n",
      "Beautiful is better than ugly.\n",
      "Explicit is better than implicit.\n",
      "Simple is better than complex.\n",
      "Complex is better than complicated.\n",
      "Flat is better than nested.\n",
      "Sparse is better than dense.\n",
      "Readability counts.\n",
      "Special cases aren't special enough to break the rules.\n",
      "Although practicality beats purity.\n",
      "Errors should never pass silently.\n",
      "Unless explicitly silenced.\n",
      "In the face of ambiguity, refuse the temptation to guess.\n",
      "There should be one-- and preferably only one --obvious way to do it.\n",
      "Although that way may not be obvious at first unless you're Dutch.\n",
      "Now is better than never.\n",
      "Although never is often better than *right* now.\n",
      "If the implementation is hard to explain, it's a bad idea.\n",
      "If the implementation is easy to explain, it may be a good idea.\n",
      "Namespaces are one honking great idea -- let's do more of those!\n",
      "\n",
      "Autor: Tim Peters\n",
      "Ano: 1999\n"
     ]
    }
   ],
   "source": [
    "#Arge Kwarg\n",
    "#podemos combinar paarametros obrigatorios com args e kwargs. quando esses são definidos (*args e **kwarfs), o metodos recebe  os valores como tupla e dicionario respectivamente\n",
    "\n",
    "def exibir_poema(data_extenso, *args, **kwargs):\n",
    "    texto = \"\\n\".join(args)\n",
    "    meta_dados = \"\\n\".join([f\"{chave.title()}: {valor}\" for chave, valor in kwargs.items()])\n",
    "    mensagem = f\"{data_extenso}\\n\\n{texto}\\n\\n{meta_dados}\"\n",
    "    print(mensagem)\n",
    "\n",
    "\n",
    "exibir_poema(\n",
    "    \"Zen of Python\", #data_extenso\n",
    "    \"Beautiful is better than ugly.\", #Tupla *args, tudo que for separado por virgula\n",
    "    \"Explicit is better than implicit.\", #Tupla *args\n",
    "    \"Simple is better than complex.\", #Tupla *args\n",
    "    \"Complex is better than complicated.\", #Tupla *args\n",
    "    \"Flat is better than nested.\", #Tupla *args\n",
    "    \"Sparse is better than dense.\", #Tupla *args\n",
    "    \"Readability counts.\", #Tupla *args\n",
    "    \"Special cases aren't special enough to break the rules.\", #Tupla *args\n",
    "    \"Although practicality beats purity.\", #Tupla *args\n",
    "    \"Errors should never pass silently.\", #Tupla *args\n",
    "    \"Unless explicitly silenced.\", #Tupla *args \n",
    "    \"In the face of ambiguity, refuse the temptation to guess.\", #Tupla *args\n",
    "    \"There should be one-- and preferably only one --obvious way to do it.\", #Tupla *args\n",
    "    \"Although that way may not be obvious at first unless you're Dutch.\",\n",
    "    \"Now is better than never.\", #Tupla *args\n",
    "    \"Although never is often better than *right* now.\", #Tupla *args\n",
    "    \"If the implementation is hard to explain, it's a bad idea.\", #Tupla *args\n",
    "    \"If the implementation is easy to explain, it may be a good idea.\", #Tupla *args\n",
    "    \"Namespaces are one honking great idea -- let's do more of those!\",#Tupla *args\n",
    "    autor=\"Tim Peters\", # Dicionario, **kwargs é passado por \n",
    "    ano=1999, # Dicionario, **kwargs é passado por \n",
    ")"
   ]
  }
 ],
 "metadata": {
  "kernelspec": {
   "display_name": "Python 3",
   "language": "python",
   "name": "python3"
  },
  "language_info": {
   "codemirror_mode": {
    "name": "ipython",
    "version": 3
   },
   "file_extension": ".py",
   "mimetype": "text/x-python",
   "name": "python",
   "nbconvert_exporter": "python",
   "pygments_lexer": "ipython3",
   "version": "3.11.2"
  }
 },
 "nbformat": 4,
 "nbformat_minor": 2
}
