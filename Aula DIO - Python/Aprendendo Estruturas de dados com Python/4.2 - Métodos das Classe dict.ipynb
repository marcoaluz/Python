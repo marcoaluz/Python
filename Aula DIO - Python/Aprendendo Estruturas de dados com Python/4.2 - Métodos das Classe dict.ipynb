{
 "cells": [
  {
   "cell_type": "code",
   "execution_count": 1,
   "metadata": {},
   "outputs": [],
   "source": [
    "# metodos da classe dict\n",
    "#\n",
    "#"
   ]
  },
  {
   "cell_type": "code",
   "execution_count": 4,
   "metadata": {},
   "outputs": [
    {
     "data": {
      "text/plain": [
       "{}"
      ]
     },
     "execution_count": 4,
     "metadata": {},
     "output_type": "execute_result"
    }
   ],
   "source": [
    "#{}.clear\n",
    "\n",
    "contatos = {\n",
    "    \"guilherme@gmail.com\":{\"nome\":\"guilherme\",\"telefone\": \"333-3333\"},\n",
    "    \"giovanna@gmail.com\":{\"nome\":\"Giovanna\",\"telefone\": \"334-3333\"},\n",
    "    \"chappie@gmail.com\":{\"nome\":\"happie\",\"telefone\": \"335-3333\"},\n",
    "    \"melaine@gamiel.com\":{\"nome\":\"melaine\",\"telefone\": \"336-3333\",\"extra\":{\"a\":1}},\n",
    "}\n",
    "\n",
    "contatos.clear()\n",
    "\n",
    "contatos\n"
   ]
  },
  {
   "cell_type": "code",
   "execution_count": 17,
   "metadata": {},
   "outputs": [
    {
     "data": {
      "text/plain": [
       "{'nome': 'Gui'}"
      ]
     },
     "execution_count": 17,
     "metadata": {},
     "output_type": "execute_result"
    }
   ],
   "source": [
    "#{}.copy\n",
    "\n",
    "contatos = {\n",
    "    \"guilherme@gmail.com\":{\"nome\":\"guilherme\",\"telefone\": \"333-3333\"}\n",
    "}\n",
    "\n",
    "copia = contatos.copy()\n",
    "\n",
    "copia[\"guilherme@gmail.com\"] = {\"nome\":\"Gui\"}\n",
    "\n",
    "copia\n",
    "\n",
    "contatos[\"guilherme@gmail.com\"]\n",
    "\n",
    "\n",
    "copia[\"guilherme@gmail.com\"]\n",
    "\n"
   ]
  },
  {
   "cell_type": "code",
   "execution_count": 20,
   "metadata": {},
   "outputs": [
    {
     "data": {
      "text/plain": [
       "{'nome': 'vazio', 'telefone': 'vazio'}"
      ]
     },
     "execution_count": 20,
     "metadata": {},
     "output_type": "execute_result"
    }
   ],
   "source": [
    "#{}.fromkeys\n",
    "\n",
    "dict.fromkeys([\"nome\",\"telefone\"])\n",
    "\n",
    "dict.fromkeys([\"nome\",\"telefone\"],\"vazio\")"
   ]
  },
  {
   "cell_type": "code",
   "execution_count": 27,
   "metadata": {},
   "outputs": [
    {
     "data": {
      "text/plain": [
       "{'nome': 'guilherme', 'telefone': '333-3333'}"
      ]
     },
     "execution_count": 27,
     "metadata": {},
     "output_type": "execute_result"
    }
   ],
   "source": [
    "#{}.get\n",
    "contatos = {\n",
    "    \"guilherme@gmail.com\":{\"nome\":\"guilherme\",\"telefone\": \"333-3333\"}\n",
    "}\n",
    "\n",
    "\n",
    "\n",
    "contatos.get(\"chave\")\n",
    "contatos.get(\"chave\",{})\n",
    "contatos.get(\"guilherme@gmail.com\",{})"
   ]
  },
  {
   "cell_type": "code",
   "execution_count": 29,
   "metadata": {},
   "outputs": [
    {
     "data": {
      "text/plain": [
       "dict_items([('guilherme@gmail.com', {'nome': 'guilherme', 'telefone': '333-3333'})])"
      ]
     },
     "execution_count": 29,
     "metadata": {},
     "output_type": "execute_result"
    }
   ],
   "source": [
    "#{} items\n",
    "contatos = {\n",
    "    \"guilherme@gmail.com\":{\"nome\":\"guilherme\",\"telefone\": \"333-3333\"}\n",
    "}\n",
    "\n",
    "contatos.items()"
   ]
  },
  {
   "cell_type": "code",
   "execution_count": 31,
   "metadata": {},
   "outputs": [
    {
     "data": {
      "text/plain": [
       "dict_keys(['guilherme@gmail.com'])"
      ]
     },
     "execution_count": 31,
     "metadata": {},
     "output_type": "execute_result"
    }
   ],
   "source": [
    "#{}.keys ele vai mostrar apenas a chave q no caso é guilherme@gmail.com\n",
    "contatos = {\n",
    "    \"guilherme@gmail.com\":{\"nome\":\"guilherme\",\"telefone\": \"333-3333\"}\n",
    "}\n",
    "\n",
    "contatos.keys()\n"
   ]
  },
  {
   "cell_type": "code",
   "execution_count": 33,
   "metadata": {},
   "outputs": [
    {
     "data": {
      "text/plain": [
       "{}"
      ]
     },
     "execution_count": 33,
     "metadata": {},
     "output_type": "execute_result"
    }
   ],
   "source": [
    "#{}.pop ele remove a chave do seu dicionario\n",
    "contatos = {\n",
    "    \"guilherme@gmail.com\":{\"nome\":\"guilherme\",\"telefone\": \"333-3333\"}\n",
    "}\n",
    "contatos.pop(\"guilherme@gmail.com\")\n",
    "\n",
    "contatos\n"
   ]
  },
  {
   "cell_type": "code",
   "execution_count": 36,
   "metadata": {},
   "outputs": [
    {
     "data": {
      "text/plain": [
       "{}"
      ]
     },
     "execution_count": 36,
     "metadata": {},
     "output_type": "execute_result"
    }
   ],
   "source": [
    "#{}.popitem ele vai remover os item na seguencia\n",
    "contatos = {\n",
    "    \"guilherme@gmail.com\":{\"nome\":\"guilherme\",\"telefone\": \"333-3333\"}\n",
    "}\n",
    "contatos.popitem()\n",
    "\n",
    "contatos"
   ]
  },
  {
   "cell_type": "code",
   "execution_count": 39,
   "metadata": {},
   "outputs": [
    {
     "data": {
      "text/plain": [
       "{'nome': 'guilherme', 'telefone': '333-3333', 'idade': 28}"
      ]
     },
     "execution_count": 39,
     "metadata": {},
     "output_type": "execute_result"
    }
   ],
   "source": [
    "#{}.setdefault\n",
    "\n",
    "contatos = {\"nome\":\"guilherme\",\"telefone\": \"333-3333\"}\n",
    "\n",
    "contatos.setdefault(\"nome\",\"Giovanna\")# caso tenha ele não altera ele como chave ja existe\n",
    "contatos\n",
    "\n",
    "contatos.setdefault(\"idade\",28)# adiciona chave caso no existe a chave no seu dicionario\n",
    "contatos\n",
    "\n"
   ]
  },
  {
   "cell_type": "code",
   "execution_count": 42,
   "metadata": {},
   "outputs": [
    {
     "data": {
      "text/plain": [
       "{'guilherme@gmail.com': {'nome': 'Giovanna', 'telefone': '332-8181'}}"
      ]
     },
     "execution_count": 42,
     "metadata": {},
     "output_type": "execute_result"
    }
   ],
   "source": [
    "#{}.update\n",
    "contatos = {\n",
    "    \"guilherme@gmail.com\":{\"nome\":\"guilherme\",\"telefone\": \"333-3333\"}\n",
    "}\n",
    "\n",
    "contatos.update({\"guilherme@gmail.com\":{\"nome\":\"Gui\"}})\n",
    "\n",
    "contatos\n",
    "\n",
    "contatos.update({\"guilherme@gmail.com\":{\"nome\":\"Giovanna\",\"telefone\":\"332-8181\"}})\n",
    "\n",
    "contatos"
   ]
  },
  {
   "cell_type": "code",
   "execution_count": 44,
   "metadata": {},
   "outputs": [
    {
     "data": {
      "text/plain": [
       "dict_values([{'nome': 'guilherme', 'telefone': '333-3333'}, {'nome': 'Giovanna', 'telefone': '334-3333'}, {'nome': 'happie', 'telefone': '335-3333'}, {'nome': 'melaine', 'telefone': '336-3333', 'extra': {'a': 1}}])"
      ]
     },
     "execution_count": 44,
     "metadata": {},
     "output_type": "execute_result"
    }
   ],
   "source": [
    "#values ele vai retornar todos os valores sem a chave principal\n",
    "\n",
    "contatos = {\n",
    "    \"guilherme@gmail.com\":{\"nome\":\"guilherme\",\"telefone\": \"333-3333\"},\n",
    "    \"giovanna@gmail.com\":{\"nome\":\"Giovanna\",\"telefone\": \"334-3333\"},\n",
    "    \"chappie@gmail.com\":{\"nome\":\"happie\",\"telefone\": \"335-3333\"},\n",
    "    \"melaine@gamiel.com\":{\"nome\":\"melaine\",\"telefone\": \"336-3333\",\"extra\":{\"a\":1}},\n",
    "}\n",
    "\n",
    "contatos.values()\n"
   ]
  },
  {
   "cell_type": "code",
   "execution_count": 49,
   "metadata": {},
   "outputs": [
    {
     "data": {
      "text/plain": [
       "False"
      ]
     },
     "execution_count": 49,
     "metadata": {},
     "output_type": "execute_result"
    }
   ],
   "source": [
    "#{}.in metodo in de verificar se uma chave existe no dicionario\n",
    "\n",
    "contatos = {\n",
    "    \"guilherme@gmail.com\":{\"nome\":\"guilherme\",\"telefone\": \"333-3333\"},\n",
    "    \"giovanna@gmail.com\":{\"nome\":\"Giovanna\",\"telefone\": \"334-3333\"},\n",
    "    \"chappie@gmail.com\":{\"nome\":\"happie\",\"telefone\": \"335-3333\"},\n",
    "    \"melaine@gamiel.com\":{\"nome\":\"melaine\",\"telefone\": \"336-3333\",\"extra\":{\"a\":1}},\n",
    "}\n",
    "\n",
    "\n",
    "resultado = \"guilherme@gmail.com\" in contatos\n",
    "resultado = \"idade\" in contatos [\"guilherme@gmail.com\"]\n",
    "\n",
    "resultado"
   ]
  },
  {
   "cell_type": "code",
   "execution_count": 51,
   "metadata": {},
   "outputs": [
    {
     "data": {
      "text/plain": [
       "{'guilherme@gmail.com': {'nome': 'guilherme'},\n",
       " 'giovanna@gmail.com': {'nome': 'Giovanna', 'telefone': '334-3333'},\n",
       " 'melaine@gamiel.com': {'nome': 'melaine',\n",
       "  'telefone': '336-3333',\n",
       "  'extra': {'a': 1}}}"
      ]
     },
     "execution_count": 51,
     "metadata": {},
     "output_type": "execute_result"
    }
   ],
   "source": [
    "# del [].del delete ele remove valor do dicionario no caso objeto quero remover exemplo telefone\n",
    "\n",
    "contatos = {\n",
    "    \"guilherme@gmail.com\":{\"nome\":\"guilherme\",\"telefone\": \"333-3333\"},\n",
    "    \"giovanna@gmail.com\":{\"nome\":\"Giovanna\",\"telefone\": \"334-3333\"},\n",
    "    \"chappie@gmail.com\":{\"nome\":\"happie\",\"telefone\": \"335-3333\"},\n",
    "    \"melaine@gamiel.com\":{\"nome\":\"melaine\",\"telefone\": \"336-3333\",\"extra\":{\"a\":1}},\n",
    "}\n",
    "\n",
    "del contatos[\"guilherme@gmail.com\"][\"telefone\"]\n",
    "contatos\n",
    "\n",
    "del contatos[\"chappie@gmail.com\"]\n",
    "\n",
    "contatos"
   ]
  }
 ],
 "metadata": {
  "kernelspec": {
   "display_name": "Python 3",
   "language": "python",
   "name": "python3"
  },
  "language_info": {
   "codemirror_mode": {
    "name": "ipython",
    "version": 3
   },
   "file_extension": ".py",
   "mimetype": "text/x-python",
   "name": "python",
   "nbconvert_exporter": "python",
   "pygments_lexer": "ipython3",
   "version": "3.11.2"
  }
 },
 "nbformat": 4,
 "nbformat_minor": 2
}
